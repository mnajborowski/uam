{
 "cells":[
  {
   "cell_type":"markdown",
   "source":[
    "# lab4"
   ],
   "attachments":{
    
   },
   "metadata":{
    "datalore":{
     "node_id":"lab4",
     "type":"MD",
     "hide_input_from_viewers":false,
     "hide_output_from_viewers":false,
     "sheet_delimiter":true
    }
   }
  },
  {
   "cell_type":"code",
   "source":[
    "from qiskit import QuantumCircuit"
   ],
   "execution_count":88,
   "outputs":[
    
   ],
   "metadata":{
    "datalore":{
     "node_id":"M87TKjIZqDjZ2wQ7c8rjlh",
     "type":"CODE",
     "hide_input_from_viewers":true,
     "hide_output_from_viewers":true
    }
   }
  },
  {
   "cell_type":"code",
   "source":[
    "# tworzymy układ 2 kubity wejścia i 3 bity klasyczne wyjścia\n",
    "circ = QuantumCircuit(2,2)\n",
    "circ.h(0)\n",
    "circ.cx(0,1)\n",
    "# pomiar kubitu 0 i wynik na bit 0\n",
    "circ.measure(0,0)\n",
    "# pomiar kubitu 1 i wynik na bit 1\n",
    "circ.measure(1,1)\n",
    "circ.draw()"
   ],
   "execution_count":89,
   "outputs":[
    {
     "data":{
      "text\/html":[
       "<pre style=\"word-wrap: normal;white-space: pre;background: #fff0;line-height: 1.1;font-family: &quot;Courier New&quot;,Courier,monospace\">     ┌───┐     ┌─┐   \n",
       "q_0: ┤ H ├──■──┤M├───\n",
       "     └───┘┌─┴─┐└╥┘┌─┐\n",
       "q_1: ─────┤ X ├─╫─┤M├\n",
       "          └───┘ ║ └╥┘\n",
       "c: 2\/═══════════╩══╩═\n",
       "                0  1 <\/pre>"
      ]
     },
     "metadata":{
      
     },
     "output_type":"display_data"
    }
   ],
   "metadata":{
    "datalore":{
     "node_id":"CUcuk7AvZqHZCDBXEZHZuX",
     "type":"CODE",
     "hide_input_from_viewers":true,
     "hide_output_from_viewers":true
    }
   }
  },
  {
   "cell_type":"code",
   "source":[
    "from qiskit import Aer\n",
    "from qiskit import assemble"
   ],
   "execution_count":90,
   "outputs":[
    
   ],
   "metadata":{
    "datalore":{
     "node_id":"2MJjdBHYy5GBPGmgdt9v3X",
     "type":"CODE",
     "hide_input_from_viewers":true,
     "hide_output_from_viewers":true
    }
   }
  },
  {
   "cell_type":"code",
   "source":[
    "simulator = Aer.get_backend('qasm_simulator')\n",
    "qobj = assemble(circ, shots=100)\n",
    "results = simulator.run(qobj)"
   ],
   "execution_count":91,
   "outputs":[
    
   ],
   "metadata":{
    "datalore":{
     "node_id":"pkQXOKlmM2qfNO34lx9Sx7",
     "type":"CODE",
     "hide_input_from_viewers":true,
     "hide_output_from_viewers":true
    }
   }
  },
  {
   "cell_type":"code",
   "source":[
    "hist = results.result().get_counts()\n",
    "print(hist)"
   ],
   "execution_count":92,
   "outputs":[
    {
     "name":"stdout",
     "text":[
      "{'11': 45, '00': 55}\n"
     ],
     "output_type":"stream"
    }
   ],
   "metadata":{
    "datalore":{
     "node_id":"JnsYQGwpGtsyJhcXiHrCmK",
     "type":"CODE",
     "hide_input_from_viewers":true,
     "hide_output_from_viewers":true
    }
   }
  },
  {
   "cell_type":"code",
   "source":[
    "from qiskit.visualization import plot_histogram"
   ],
   "execution_count":93,
   "outputs":[
    
   ],
   "metadata":{
    "datalore":{
     "node_id":"iLif71LihA6ouaCEtenu2v",
     "type":"CODE",
     "hide_input_from_viewers":true,
     "hide_output_from_viewers":true
    }
   }
  },
  {
   "cell_type":"code",
   "source":[
    "plot_histogram(hist)"
   ],
   "execution_count":94,
   "outputs":[
    {
     "data":{
      "image\/png":"[encoded data removed]"
     },
     "metadata":{
      "image\/png":{
       
      }
     },
     "output_type":"display_data"
    }
   ],
   "metadata":{
    "datalore":{
     "node_id":"Ga5U3Me8vtaNL6llam4qVg",
     "type":"CODE",
     "hide_input_from_viewers":true,
     "hide_output_from_viewers":true
    }
   }
  },
  {
   "cell_type":"code",
   "source":[
    "# X -> not(qx)\n",
    "# CX -> if qx == 1 -> not(qx+1)\n",
    "# CCX -> if qx == 1 && qx+1 == 1 -> not(qx+2)\n",
    "\n",
    "# f(x) = x + 5 mod 8\n",
    "\n",
    "# f(0) = 5    000 -> 101\n",
    "# f(1) = 6    001 -> 110\n",
    "# f(2) = 7    010 -> 111\n",
    "# f(3) = 0    011 -> 000\n",
    "# f(4) = 1    100 -> 001\n",
    "# f(5) = 2    101 -> 010\n",
    "# f(6) = 3    110 -> 011\n",
    "# f(7) = 4    111 -> 100\n",
    "\n",
    "def mod8(x):\n",
    "    if x==0:\n",
    "        pass\n",
    "    if x==1:\n",
    "        f.x(0)\n",
    "    if x==2:\n",
    "        f.x(1)\n",
    "    if x==3:\n",
    "        f.x(0)\n",
    "        f.x(1)\n",
    "    if x==4:\n",
    "        f.x(2)\n",
    "    if x==5:\n",
    "        f.x(2)\n",
    "        f.x(0)\n",
    "    if x==6:\n",
    "        f.x(2)\n",
    "        f.x(1)\n",
    "    if x==7:\n",
    "        f.x(2)\n",
    "        f.x(1)\n",
    "        f.x(0)\n",
    "\n",
    "f = QuantumCircuit(3,3)\n",
    "mod8(4)\n",
    "f.barrier()\n",
    "f.ccx(0,1,2)\n",
    "f.cx(0,1)\n",
    "f.barrier()\n",
    "f.x(0)\n",
    "f.x(2)\n",
    "f.barrier()\n",
    "\n",
    "f.measure(0,0)\n",
    "\n",
    "f.measure(1,1)\n",
    "f.measure(2,2)\n",
    "f.draw()"
   ],
   "execution_count":95,
   "outputs":[
    {
     "data":{
      "text\/html":[
       "<pre style=\"word-wrap: normal;white-space: pre;background: #fff0;line-height: 1.1;font-family: &quot;Courier New&quot;,Courier,monospace\">           ░            ░ ┌───┐ ░ ┌─┐      \n",
       "q_0: ──────░───■────■───░─┤ X ├─░─┤M├──────\n",
       "           ░   │  ┌─┴─┐ ░ └───┘ ░ └╥┘┌─┐   \n",
       "q_1: ──────░───■──┤ X ├─░───────░──╫─┤M├───\n",
       "     ┌───┐ ░ ┌─┴─┐└───┘ ░ ┌───┐ ░  ║ └╥┘┌─┐\n",
       "q_2: ┤ X ├─░─┤ X ├──────░─┤ X ├─░──╫──╫─┤M├\n",
       "     └───┘ ░ └───┘      ░ └───┘ ░  ║  ║ └╥┘\n",
       "c: 3\/══════════════════════════════╩══╩══╩═\n",
       "                                   0  1  2 <\/pre>"
      ]
     },
     "metadata":{
      
     },
     "output_type":"display_data"
    }
   ],
   "metadata":{
    "datalore":{
     "node_id":"xsflQbjcSsgdxlsTy29IJH",
     "type":"CODE",
     "hide_input_from_viewers":true,
     "hide_output_from_viewers":true
    }
   }
  },
  {
   "cell_type":"code",
   "source":[
    "qobj = assemble(circ, shots=100)\n",
    "results = simulator.run(qobj)\n",
    "\n",
    "hist = results.result().get_counts()\n",
    "print(hist)"
   ],
   "execution_count":96,
   "outputs":[
    {
     "name":"stdout",
     "text":[
      "{'11': 50, '00': 50}\n"
     ],
     "output_type":"stream"
    }
   ],
   "metadata":{
    "datalore":{
     "node_id":"j67eDN5h7c3trLeJPoBtQv",
     "type":"CODE",
     "hide_input_from_viewers":true,
     "hide_output_from_viewers":true
    }
   }
  },
  {
   "cell_type":"code",
   "source":[
    
   ],
   "execution_count":null,
   "outputs":[
    
   ],
   "metadata":{
    "datalore":{
     "node_id":"4VBQtLPCIvj35t4NfagN1v",
     "type":"CODE",
     "hide_input_from_viewers":true,
     "hide_output_from_viewers":true
    }
   }
  },
  {
   "cell_type":"markdown",
   "source":[
    "# lab5"
   ],
   "attachments":{
    
   },
   "metadata":{
    "datalore":{
     "node_id":"lab5",
     "type":"MD",
     "hide_input_from_viewers":false,
     "hide_output_from_viewers":false,
     "sheet_delimiter":true
    }
   }
  },
  {
   "cell_type":"code",
   "source":[
    "from qiskit import QuantumRegister, ClassicalRegister, QuantumCircuit\n",
    "from qiskit.quantum_info import random_statevector"
   ],
   "execution_count":97,
   "outputs":[
    
   ],
   "metadata":{
    "datalore":{
     "node_id":"BWLVaz9KOCxn2NTIrFbf5D",
     "type":"CODE",
     "hide_input_from_viewers":true,
     "hide_output_from_viewers":true
    }
   }
  },
  {
   "cell_type":"code",
   "source":[
    "qr = QuantumRegister(3) # Protocol uses 3 qubits\n",
    "cr1 = ClassicalRegister(1,name=\"cr1\")\n",
    "cr2 = ClassicalRegister(1,name=\"cr2\")\n",
    "tel = QuantumCircuit(qr,cr1,cr2)\n",
    "# inicjujemy wektor do telepotacji na kubicie 0\n",
    "#tel.initialize([1\/sqrt(2), 1\/sqrt(2)], 0) \n",
    "#losujemy losowy kubit\n",
    "psi = random_statevector(2)\n",
    "tel.initialize(psi, 0)\n",
    "tel.barrier()\n",
    "tel.h(1)\n",
    "tel.cx(1,2)\n",
    "tel.cx(0,1)\n",
    "tel.h(0)\n",
    "tel.barrier()\n",
    "tel.measure(0,0)\n",
    "tel.measure(1,1)\n",
    "tel.draw()"
   ],
   "execution_count":98,
   "outputs":[
    {
     "data":{
      "text\/html":[
       "<pre style=\"word-wrap: normal;white-space: pre;background: #fff0;line-height: 1.1;font-family: &quot;Courier New&quot;,Courier,monospace\">       ┌─────────────────────────────────────────────────┐ ░                »\n",
       "q87_0: ┤ Initialize(-0.094754+0.61805j,0.60684+0.49069j) ├─░─────────────■──»\n",
       "       └─────────────────────────────────────────────────┘ ░ ┌───┐     ┌─┴─┐»\n",
       "q87_1: ────────────────────────────────────────────────────░─┤ H ├──■──┤ X ├»\n",
       "                                                           ░ └───┘┌─┴─┐└───┘»\n",
       "q87_2: ────────────────────────────────────────────────────░──────┤ X ├─────»\n",
       "                                                           ░      └───┘     »\n",
       "cr1: 1\/═════════════════════════════════════════════════════════════════════»\n",
       "                                                                            »\n",
       "cr2: 1\/═════════════════════════════════════════════════════════════════════»\n",
       "                                                                            »\n",
       "«       ┌───┐ ░ ┌─┐   \n",
       "«q87_0: ┤ H ├─░─┤M├───\n",
       "«       └───┘ ░ └╥┘┌─┐\n",
       "«q87_1: ──────░──╫─┤M├\n",
       "«             ░  ║ └╥┘\n",
       "«q87_2: ──────░──╫──╫─\n",
       "«             ░  ║  ║ \n",
       "«cr1: 1\/═════════╩══╬═\n",
       "«                0  ║ \n",
       "«cr2: 1\/════════════╩═\n",
       "«                   0 <\/pre>"
      ]
     },
     "metadata":{
      
     },
     "output_type":"display_data"
    }
   ],
   "metadata":{
    "datalore":{
     "node_id":"3uCORAvFvkrjJjQFEGvXJH",
     "type":"CODE",
     "hide_input_from_viewers":true,
     "hide_output_from_viewers":true
    }
   }
  },
  {
   "cell_type":"code",
   "source":[
    "from qiskit import Aer\n",
    "from qiskit import assemble"
   ],
   "execution_count":99,
   "outputs":[
    
   ],
   "metadata":{
    "datalore":{
     "node_id":"nredwe78nsHZ86poCSHzBe",
     "type":"CODE",
     "hide_input_from_viewers":true,
     "hide_output_from_viewers":true
    }
   }
  },
  {
   "cell_type":"code",
   "source":[
    "simulator = Aer.get_backend('qasm_simulator')\n",
    "telas = assemble(tel, shots=1)\n",
    "wyniki = simulator.run(telas)"
   ],
   "execution_count":100,
   "outputs":[
    
   ],
   "metadata":{
    "datalore":{
     "node_id":"bzbdPonDuLy2ruWoMGoXI0",
     "type":"CODE",
     "hide_input_from_viewers":true,
     "hide_output_from_viewers":true
    }
   }
  },
  {
   "cell_type":"code",
   "source":[
    "hist = wyniki.result().get_counts()\n",
    "print(hist)"
   ],
   "execution_count":101,
   "outputs":[
    {
     "name":"stdout",
     "text":[
      "{'1 0': 1}\n"
     ],
     "output_type":"stream"
    }
   ],
   "metadata":{
    "datalore":{
     "node_id":"E0ZScmaONZfX59vixrQkba",
     "type":"CODE",
     "hide_input_from_viewers":true,
     "hide_output_from_viewers":true
    }
   }
  },
  {
   "cell_type":"code",
   "source":[
    "tel.x(2).c_if(cr1, 1) \n",
    "# jesli cr1 ma wartosc 1 to dzialaj na tel bramka X \n",
    "tel.z(2).c_if(cr2, 1)"
   ],
   "execution_count":102,
   "outputs":[
    {
     "data":{
      "text\/plain":[
       "<qiskit.circuit.instructionset.InstructionSet at 0x7f612b246e00>"
      ]
     },
     "metadata":{
      
     },
     "output_type":"display_data"
    }
   ],
   "metadata":{
    "datalore":{
     "node_id":"Kd9HjvwRPJVbm4BbC3rDkR",
     "type":"CODE",
     "hide_input_from_viewers":true,
     "hide_output_from_viewers":true
    }
   }
  },
  {
   "cell_type":"code",
   "source":[
    "sym = Aer.get_backend('statevector_simulator')\n",
    "qpom = assemble(tel)\n",
    "result = sym.run(qpom).result()\n",
    "stan_wektora = result.get_statevector()\n",
    "print(stan_wektora)"
   ],
   "execution_count":103,
   "outputs":[
    {
     "name":"stdout",
     "text":[
      "Statevector([ 0.        +0.j        ,  0.        -0.j        ,\n",
      "             -0.        +0.j        , -0.09475424+0.61805296j,\n",
      "              0.        -0.j        ,  0.        -0.j        ,\n",
      "             -0.        +0.j        ,  0.60684456+0.49068509j],\n",
      "            dims=(2, 2, 2))\n"
     ],
     "output_type":"stream"
    }
   ],
   "metadata":{
    "datalore":{
     "node_id":"7MpI0uEop7RuegP03luXXM",
     "type":"CODE",
     "hide_input_from_viewers":true,
     "hide_output_from_viewers":true
    }
   }
  },
  {
   "cell_type":"code",
   "source":[
    "circ = QuantumCircuit(2,2)\n",
    "\n",
    "oracle = QuantumCircuit(2)\n",
    "oracle.x(1)\n",
    "oracle_gate = oracle.to_gate()\n",
    "oracle_gate.name = \"Oracle\"\n",
    "\n",
    "circ.h(0)\n",
    "circ.h(1)\n",
    "circ.append(oracle_gate, range(2))\n",
    "circ.h(0)\n",
    "circ.measure(0,0)\n",
    "circ.draw()"
   ],
   "execution_count":104,
   "outputs":[
    {
     "data":{
      "text\/html":[
       "<pre style=\"word-wrap: normal;white-space: pre;background: #fff0;line-height: 1.1;font-family: &quot;Courier New&quot;,Courier,monospace\">     ┌───┐┌─────────┐┌───┐┌─┐\n",
       "q_0: ┤ H ├┤0        ├┤ H ├┤M├\n",
       "     ├───┤│  Oracle │└───┘└╥┘\n",
       "q_1: ┤ H ├┤1        ├──────╫─\n",
       "     └───┘└─────────┘      ║ \n",
       "c: 2\/══════════════════════╩═\n",
       "                           0 <\/pre>"
      ]
     },
     "metadata":{
      
     },
     "output_type":"display_data"
    }
   ],
   "metadata":{
    "datalore":{
     "node_id":"PUsD9dew9sVKrwf0tMUyg0",
     "type":"CODE",
     "hide_input_from_viewers":true,
     "hide_output_from_viewers":true
    }
   }
  },
  {
   "cell_type":"markdown",
   "source":[
    "# miniprojekt1"
   ],
   "attachments":{
    
   },
   "metadata":{
    "datalore":{
     "node_id":"miniprojekt1",
     "type":"MD",
     "hide_input_from_viewers":false,
     "hide_output_from_viewers":false,
     "sheet_delimiter":true
    }
   }
  },
  {
   "cell_type":"code",
   "source":[
    "from qiskit import QuantumCircuit, Aer, assemble"
   ],
   "execution_count":105,
   "outputs":[
    
   ],
   "metadata":{
    "datalore":{
     "node_id":"hSmoWLwanLr4zddRkbO303",
     "type":"CODE",
     "hide_input_from_viewers":true,
     "hide_output_from_viewers":true
    }
   }
  },
  {
   "cell_type":"code",
   "source":[
    "# f(x) = x + 470625 mod 8\n",
    "\n",
    "# f(0) = 1    000 -> 001\n",
    "# f(1) = 2    001 -> 010\n",
    "# f(2) = 3    010 -> 011\n",
    "# f(3) = 4    011 -> 100\n",
    "# f(4) = 5    100 -> 101\n",
    "# f(5) = 6    101 -> 110\n",
    "# f(6) = 7    110 -> 111\n",
    "# f(7) = 0    111 -> 000\n",
    "\n",
    "def mod8(x):\n",
    "    if x==0:\n",
    "        pass\n",
    "    if x==1:\n",
    "        f.x(0)\n",
    "    if x==2:\n",
    "        f.x(1)\n",
    "    if x==3:\n",
    "        f.x(0)\n",
    "        f.x(1)\n",
    "    if x==4:\n",
    "        f.x(2)\n",
    "    if x==5:\n",
    "        f.x(2)\n",
    "        f.x(0)\n",
    "    if x==6:\n",
    "        f.x(2)\n",
    "        f.x(1)\n",
    "    if x==7:\n",
    "        f.x(2)\n",
    "        f.x(1)\n",
    "        f.x(0)\n",
    "\n",
    "f = QuantumCircuit(3,3)\n",
    "mod8(7)\n",
    "f.ccx(0,1,2)\n",
    "f.cx(0,1)\n",
    "f.x(0)\n",
    "f.barrier()\n",
    "f.measure(0,0)\n",
    "f.measure(1,1)\n",
    "f.measure(2,2)\n",
    "f.draw()"
   ],
   "execution_count":106,
   "outputs":[
    {
     "data":{
      "text\/html":[
       "<pre style=\"word-wrap: normal;white-space: pre;background: #fff0;line-height: 1.1;font-family: &quot;Courier New&quot;,Courier,monospace\">     ┌───┐          ┌───┐ ░ ┌─┐      \n",
       "q_0: ┤ X ├──■────■──┤ X ├─░─┤M├──────\n",
       "     ├───┤  │  ┌─┴─┐└───┘ ░ └╥┘┌─┐   \n",
       "q_1: ┤ X ├──■──┤ X ├──────░──╫─┤M├───\n",
       "     ├───┤┌─┴─┐└───┘      ░  ║ └╥┘┌─┐\n",
       "q_2: ┤ X ├┤ X ├───────────░──╫──╫─┤M├\n",
       "     └───┘└───┘           ░  ║  ║ └╥┘\n",
       "c: 3\/════════════════════════╩══╩══╩═\n",
       "                             0  1  2 <\/pre>"
      ]
     },
     "metadata":{
      
     },
     "output_type":"display_data"
    }
   ],
   "metadata":{
    "datalore":{
     "node_id":"aq3bFjG2HI1k0khKdg8Eth",
     "type":"CODE",
     "hide_input_from_viewers":true,
     "hide_output_from_viewers":true
    }
   }
  },
  {
   "cell_type":"code",
   "source":[
    "symulator=Aer.get_backend('qasm_simulator')\n",
    "fas=assemble(f, shots=1)\n",
    "wyniki=symulator.run(fas)\n",
    "hist=wyniki.result().get_counts()\n",
    "print(hist)"
   ],
   "execution_count":107,
   "outputs":[
    {
     "name":"stdout",
     "text":[
      "{'000': 1}\n"
     ],
     "output_type":"stream"
    }
   ],
   "metadata":{
    "datalore":{
     "node_id":"6g2HxuzMc0BVRTsnVHKehC",
     "type":"CODE",
     "hide_input_from_viewers":true,
     "hide_output_from_viewers":true
    }
   }
  },
  {
   "cell_type":"code",
   "source":[
    "# f(x) = x + 470625 mod 16\n",
    "\n",
    "# f(0) = 1      0000 -> 0001\n",
    "# f(1) = 2      0001 -> 0010\n",
    "# f(2) = 3      0010 -> 0011\n",
    "# f(3) = 4      0011 -> 0100\n",
    "# f(4) = 5      0100 -> 0101\n",
    "# f(5) = 6      0101 -> 0110\n",
    "# f(6) = 7      0110 -> 0111\n",
    "# f(7) = 8      0111 -> 1000\n",
    "# f(8) = 9      1000 -> 1001\n",
    "# f(9) = 10     1001 -> 1010\n",
    "# f(10) = 11    1010 -> 1011\n",
    "# f(11) = 12    1011 -> 1100\n",
    "# f(12) = 13    1100 -> 1101\n",
    "# f(13) = 14    1101 -> 1110\n",
    "# f(14) = 15    1110 -> 1111\n",
    "# f(15) = 0     1111 -> 0000\n",
    "\n",
    "def mod16(x):\n",
    "    if x==0:\n",
    "        pass\n",
    "    if x==1:\n",
    "        f.x(0)\n",
    "    if x==2:\n",
    "        f.x(1)\n",
    "    if x==3:\n",
    "        f.x(0)\n",
    "        f.x(1)\n",
    "    if x==4:\n",
    "        f.x(2)\n",
    "    if x==5:\n",
    "        f.x(2)\n",
    "        f.x(0)\n",
    "    if x==6:\n",
    "        f.x(2)\n",
    "        f.x(1)\n",
    "    if x==7:\n",
    "        f.x(2)\n",
    "        f.x(1)\n",
    "        f.x(0)\n",
    "    if x==8:\n",
    "        f.x(3)\n",
    "    if x==9:\n",
    "        f.x(3)\n",
    "        f.x(0)\n",
    "    if x==10:\n",
    "        f.x(3)\n",
    "        f.x(1)\n",
    "    if x==11:\n",
    "        f.x(3)\n",
    "        f.x(0)\n",
    "        f.x(1)\n",
    "    if x==12:\n",
    "        f.x(3)\n",
    "        f.x(2)\n",
    "    if x==13:\n",
    "        f.x(3)\n",
    "        f.x(2)\n",
    "        f.x(0)\n",
    "    if x==14:\n",
    "        f.x(3)\n",
    "        f.x(2)\n",
    "        f.x(1)\n",
    "    if x==15:\n",
    "        f.x(3)\n",
    "        f.x(2)\n",
    "        f.x(1)\n",
    "        f.x(0)\n",
    "\n",
    "f = QuantumCircuit(5,4)\n",
    "mod16(7)\n",
    "f.ccx(0,1,4)\n",
    "f.ccx(2,4,3)\n",
    "f.ccx(0,1,2)\n",
    "f.cx(0,1)\n",
    "f.x(0)\n",
    "f.barrier()\n",
    "f.measure(0,0)\n",
    "f.measure(1,1)\n",
    "f.measure(2,2)\n",
    "f.measure(3,3)\n",
    "f.draw()"
   ],
   "execution_count":108,
   "outputs":[
    {
     "data":{
      "text\/html":[
       "<pre style=\"word-wrap: normal;white-space: pre;background: #fff0;line-height: 1.1;font-family: &quot;Courier New&quot;,Courier,monospace\">     ┌───┐                    ┌───┐ ░ ┌─┐         \n",
       "q_0: ┤ X ├──■─────────■────■──┤ X ├─░─┤M├─────────\n",
       "     ├───┤  │         │  ┌─┴─┐└───┘ ░ └╥┘┌─┐      \n",
       "q_1: ┤ X ├──■─────────■──┤ X ├──────░──╫─┤M├──────\n",
       "     ├───┤  │       ┌─┴─┐└───┘      ░  ║ └╥┘┌─┐   \n",
       "q_2: ┤ X ├──┼────■──┤ X ├───────────░──╫──╫─┤M├───\n",
       "     └───┘  │  ┌─┴─┐└───┘           ░  ║  ║ └╥┘┌─┐\n",
       "q_3: ───────┼──┤ X ├────────────────░──╫──╫──╫─┤M├\n",
       "          ┌─┴─┐└─┬─┘                ░  ║  ║  ║ └╥┘\n",
       "q_4: ─────┤ X ├──■──────────────────░──╫──╫──╫──╫─\n",
       "          └───┘                     ░  ║  ║  ║  ║ \n",
       "c: 4\/══════════════════════════════════╩══╩══╩══╩═\n",
       "                                       0  1  2  3 <\/pre>"
      ]
     },
     "metadata":{
      
     },
     "output_type":"display_data"
    }
   ],
   "metadata":{
    "datalore":{
     "node_id":"jD4SmVHwJZKT11VQZ6yYqf",
     "type":"CODE",
     "hide_input_from_viewers":true,
     "hide_output_from_viewers":true
    }
   }
  },
  {
   "cell_type":"code",
   "source":[
    "symulator=Aer.get_backend('qasm_simulator')\n",
    "fas=assemble(f, shots=1)\n",
    "wyniki=symulator.run(fas)\n",
    "hist=wyniki.result().get_counts()\n",
    "print(hist)"
   ],
   "execution_count":109,
   "outputs":[
    {
     "name":"stdout",
     "text":[
      "{'1000': 1}\n"
     ],
     "output_type":"stream"
    }
   ],
   "metadata":{
    "datalore":{
     "node_id":"vXgN0nzUG2FFXgmxnazZTA",
     "type":"CODE",
     "hide_input_from_viewers":true,
     "hide_output_from_viewers":true
    }
   }
  },
  {
   "cell_type":"markdown",
   "source":[
    "# miniprojekt2"
   ],
   "attachments":{
    
   },
   "metadata":{
    "datalore":{
     "node_id":"miniprojekt2",
     "type":"MD",
     "hide_input_from_viewers":false,
     "hide_output_from_viewers":false,
     "sheet_delimiter":true
    }
   }
  },
  {
   "cell_type":"code",
   "source":[
    "from qiskit import QuantumCircuit, execute, Aer\n",
    "from numpy.random import randint\n",
    "import numpy as np\n",
    "from qiskit.providers.aer import QasmSimulator"
   ],
   "execution_count":2,
   "outputs":[
    
   ],
   "metadata":{
    "datalore":{
     "node_id":"QSVkA57k0jJwl08fodKp97",
     "type":"CODE",
     "hide_input_from_viewers":true,
     "hide_output_from_viewers":true
    }
   }
  },
  {
   "cell_type":"code",
   "source":[
    "num_qubits = 32\n",
    "\n",
    "alice_state = np.random.randint(2, size=num_qubits)\n",
    "# alice_state = np.array([1, 1, 1, 0, 0, 0, 0, 1, 0, 0, 0, 0, 0, 1, 1, 0, 0, 0, 0, 1, 0, 1, 0, 0, 0, 0, 0, 0, 1, 1, 1, 0])\n",
    "# alice_state = np.array([0, 1, 0, 1, 1, 0, 0, 1, 0, 1])\n",
    "alice_basis = np.random.randint(2, size=num_qubits)\n",
    "# alice_basis = np.array([0, 1, 1, 0, 1, 0, 0, 0, 0, 0, 1, 0, 0, 1, 0, 1, 0, 0, 0, 0, 1, 0, 1, 1, 0, 0, 0, 0, 1, 0, 1, 0])\n",
    "# alice_basis = np.array([1, 1, 0, 1, 0, 1, 0, 0, 1, 1])\n",
    "bob_basis = np.random.randint(2, size=num_qubits)\n",
    "# bob_basis = np.array([0, 1, 0, 1, 1, 0, 1, 1, 1, 0, 1, 0, 0, 0, 1, 0, 0, 1, 0, 0, 0, 0, 0, 0, 0, 0, 1, 1, 1, 1, 1, 1])\n",
    "# bob_basis = np.array([1, 0, 1, 1, 0, 0, 0, 0, 0, 1])\n",
    "\n",
    "\n",
    "print(f\"Alice's State:\\t {np.array2string(alice_state)}\")\n",
    "print(f\"Alice's Bases:\\t {np.array2string(alice_basis)}\")\n",
    "print(f\"Bob's Bases:\\t {np.array2string(bob_basis)}\")"
   ],
   "execution_count":11,
   "outputs":[
    {
     "name":"stdout",
     "text":[
      "Alice's State:\t [0 1 1 1 1 0 1 1 0 0 0 1 0 1 0 0 0 1 1 0 0 0 0 1 0 0 1 1 0 0 1 1]\n",
      "Alice's Bases:\t [1 0 1 0 0 1 0 0 0 0 0 1 1 0 0 1 0 0 0 1 1 1 1 1 0 1 1 1 1 1 0 1]\n",
      "Bob's Bases:\t [0 0 0 0 1 1 0 0 1 0 1 0 1 1 1 0 0 1 1 0 1 0 1 1 1 1 0 0 1 0 0 0]\n"
     ],
     "output_type":"stream"
    }
   ],
   "metadata":{
    "datalore":{
     "node_id":"Ju9u5p5i9Wlcn1Z8EbDedA",
     "type":"CODE",
     "hide_input_from_viewers":true,
     "hide_output_from_viewers":true
    }
   }
  },
  {
   "cell_type":"code",
   "source":[
    "def bb84_circuit(state, basis, measurement_basis):\n",
    "\n",
    "    num_qubits = len(state)\n",
    "    \n",
    "    circuit = QuantumCircuit(num_qubits)\n",
    "\n",
    "    # Sender prepares qubits\n",
    "    for i in range(len(basis)):\n",
    "        if state[i] == 1:\n",
    "            circuit.x(i)\n",
    "        if basis[i] == 1:\n",
    "            circuit.h(i)\n",
    "   \n",
    "\n",
    "    # Measuring action performed by Bob\n",
    "    for i in range(len(measurement_basis)):\n",
    "        if measurement_basis[i] == 1:\n",
    "            circuit.h(i)\n",
    "\n",
    "       \n",
    "    circuit.measure_all()\n",
    "    \n",
    "    return circuit"
   ],
   "execution_count":12,
   "outputs":[
    
   ],
   "metadata":{
    "datalore":{
     "node_id":"Jms33jQPw3xZVZnUp25YJx",
     "type":"CODE",
     "hide_input_from_viewers":true,
     "hide_output_from_viewers":true
    }
   }
  },
  {
   "cell_type":"code",
   "source":[
    "circuit = bb84_circuit(alice_state, alice_basis, bob_basis)\n",
    "key = execute(circuit.reverse_bits(),backend=QasmSimulator(),shots=1).result().get_counts().most_frequent()\n",
    "encryption_key = ''\n",
    "for i in range(len(key)):\n",
    "    if alice_basis[i] == bob_basis[i]:\n",
    "         encryption_key += str(key[i])\n",
    "print(f\"Key: {encryption_key}\")"
   ],
   "execution_count":13,
   "outputs":[
    {
     "name":"stdout",
     "text":[
      "Key: 11011000001001\n"
     ],
     "output_type":"stream"
    }
   ],
   "metadata":{
    "datalore":{
     "node_id":"raY4D4PJLNtG4NVawotE3v",
     "type":"CODE",
     "hide_input_from_viewers":true,
     "hide_output_from_viewers":true
    }
   }
  },
  {
   "cell_type":"code",
   "source":[
    "circuit.draw()"
   ],
   "execution_count":14,
   "outputs":[
    {
     "data":{
      "text\/html":[
       "<pre style=\"word-wrap: normal;white-space: pre;background: #fff0;line-height: 1.1;font-family: &quot;Courier New&quot;,Courier,monospace\">         ┌───┐           ░ ┌─┐                                                »\n",
       "    q_0: ┤ H ├───────────░─┤M├────────────────────────────────────────────────»\n",
       "         ├───┤           ░ └╥┘┌─┐                                             »\n",
       "    q_1: ┤ X ├───────────░──╫─┤M├─────────────────────────────────────────────»\n",
       "         ├───┤┌───┐      ░  ║ └╥┘┌─┐                                          »\n",
       "    q_2: ┤ X ├┤ H ├──────░──╫──╫─┤M├──────────────────────────────────────────»\n",
       "         ├───┤└───┘      ░  ║  ║ └╥┘┌─┐                                       »\n",
       "    q_3: ┤ X ├───────────░──╫──╫──╫─┤M├───────────────────────────────────────»\n",
       "         ├───┤┌───┐      ░  ║  ║  ║ └╥┘┌─┐                                    »\n",
       "    q_4: ┤ X ├┤ H ├──────░──╫──╫──╫──╫─┤M├────────────────────────────────────»\n",
       "         ├───┤├───┤      ░  ║  ║  ║  ║ └╥┘┌─┐                                 »\n",
       "    q_5: ┤ H ├┤ H ├──────░──╫──╫──╫──╫──╫─┤M├─────────────────────────────────»\n",
       "         ├───┤└───┘      ░  ║  ║  ║  ║  ║ └╥┘┌─┐                              »\n",
       "    q_6: ┤ X ├───────────░──╫──╫──╫──╫──╫──╫─┤M├──────────────────────────────»\n",
       "         ├───┤           ░  ║  ║  ║  ║  ║  ║ └╥┘┌─┐                           »\n",
       "    q_7: ┤ X ├───────────░──╫──╫──╫──╫──╫──╫──╫─┤M├───────────────────────────»\n",
       "         ├───┤           ░  ║  ║  ║  ║  ║  ║  ║ └╥┘┌─┐                        »\n",
       "    q_8: ┤ H ├───────────░──╫──╫──╫──╫──╫──╫──╫──╫─┤M├────────────────────────»\n",
       "         └───┘           ░  ║  ║  ║  ║  ║  ║  ║  ║ └╥┘┌─┐                     »\n",
       "    q_9: ────────────────░──╫──╫──╫──╫──╫──╫──╫──╫──╫─┤M├─────────────────────»\n",
       "         ┌───┐           ░  ║  ║  ║  ║  ║  ║  ║  ║  ║ └╥┘┌─┐                  »\n",
       "   q_10: ┤ H ├───────────░──╫──╫──╫──╫──╫──╫──╫──╫──╫──╫─┤M├──────────────────»\n",
       "         ├───┤┌───┐      ░  ║  ║  ║  ║  ║  ║  ║  ║  ║  ║ └╥┘┌─┐               »\n",
       "   q_11: ┤ X ├┤ H ├──────░──╫──╫──╫──╫──╫──╫──╫──╫──╫──╫──╫─┤M├───────────────»\n",
       "         ├───┤├───┤      ░  ║  ║  ║  ║  ║  ║  ║  ║  ║  ║  ║ └╥┘┌─┐            »\n",
       "   q_12: ┤ H ├┤ H ├──────░──╫──╫──╫──╫──╫──╫──╫──╫──╫──╫──╫──╫─┤M├────────────»\n",
       "         ├───┤├───┤      ░  ║  ║  ║  ║  ║  ║  ║  ║  ║  ║  ║  ║ └╥┘┌─┐         »\n",
       "   q_13: ┤ X ├┤ H ├──────░──╫──╫──╫──╫──╫──╫──╫──╫──╫──╫──╫──╫──╫─┤M├─────────»\n",
       "         ├───┤└───┘      ░  ║  ║  ║  ║  ║  ║  ║  ║  ║  ║  ║  ║  ║ └╥┘┌─┐      »\n",
       "   q_14: ┤ H ├───────────░──╫──╫──╫──╫──╫──╫──╫──╫──╫──╫──╫──╫──╫──╫─┤M├──────»\n",
       "         ├───┤           ░  ║  ║  ║  ║  ║  ║  ║  ║  ║  ║  ║  ║  ║  ║ └╥┘┌─┐   »\n",
       "   q_15: ┤ H ├───────────░──╫──╫──╫──╫──╫──╫──╫──╫──╫──╫──╫──╫──╫──╫──╫─┤M├───»\n",
       "         └───┘           ░  ║  ║  ║  ║  ║  ║  ║  ║  ║  ║  ║  ║  ║  ║  ║ └╥┘┌─┐»\n",
       "   q_16: ────────────────░──╫──╫──╫──╫──╫──╫──╫──╫──╫──╫──╫──╫──╫──╫──╫──╫─┤M├»\n",
       "         ┌───┐┌───┐      ░  ║  ║  ║  ║  ║  ║  ║  ║  ║  ║  ║  ║  ║  ║  ║  ║ └╥┘»\n",
       "   q_17: ┤ X ├┤ H ├──────░──╫──╫──╫──╫──╫──╫──╫──╫──╫──╫──╫──╫──╫──╫──╫──╫──╫─»\n",
       "         ├───┤├───┤      ░  ║  ║  ║  ║  ║  ║  ║  ║  ║  ║  ║  ║  ║  ║  ║  ║  ║ »\n",
       "   q_18: ┤ X ├┤ H ├──────░──╫──╫──╫──╫──╫──╫──╫──╫──╫──╫──╫──╫──╫──╫──╫──╫──╫─»\n",
       "         ├───┤└───┘      ░  ║  ║  ║  ║  ║  ║  ║  ║  ║  ║  ║  ║  ║  ║  ║  ║  ║ »\n",
       "   q_19: ┤ H ├───────────░──╫──╫──╫──╫──╫──╫──╫──╫──╫──╫──╫──╫──╫──╫──╫──╫──╫─»\n",
       "         ├───┤┌───┐      ░  ║  ║  ║  ║  ║  ║  ║  ║  ║  ║  ║  ║  ║  ║  ║  ║  ║ »\n",
       "   q_20: ┤ H ├┤ H ├──────░──╫──╫──╫──╫──╫──╫──╫──╫──╫──╫──╫──╫──╫──╫──╫──╫──╫─»\n",
       "         ├───┤└───┘      ░  ║  ║  ║  ║  ║  ║  ║  ║  ║  ║  ║  ║  ║  ║  ║  ║  ║ »\n",
       "   q_21: ┤ H ├───────────░──╫──╫──╫──╫──╫──╫──╫──╫──╫──╫──╫──╫──╫──╫──╫──╫──╫─»\n",
       "         ├───┤┌───┐      ░  ║  ║  ║  ║  ║  ║  ║  ║  ║  ║  ║  ║  ║  ║  ║  ║  ║ »\n",
       "   q_22: ┤ H ├┤ H ├──────░──╫──╫──╫──╫──╫──╫──╫──╫──╫──╫──╫──╫──╫──╫──╫──╫──╫─»\n",
       "         ├───┤├───┤┌───┐ ░  ║  ║  ║  ║  ║  ║  ║  ║  ║  ║  ║  ║  ║  ║  ║  ║  ║ »\n",
       "   q_23: ┤ X ├┤ H ├┤ H ├─░──╫──╫──╫──╫──╫──╫──╫──╫──╫──╫──╫──╫──╫──╫──╫──╫──╫─»\n",
       "         ├───┤└───┘└───┘ ░  ║  ║  ║  ║  ║  ║  ║  ║  ║  ║  ║  ║  ║  ║  ║  ║  ║ »\n",
       "   q_24: ┤ H ├───────────░──╫──╫──╫──╫──╫──╫──╫──╫──╫──╫──╫──╫──╫──╫──╫──╫──╫─»\n",
       "         ├───┤┌───┐      ░  ║  ║  ║  ║  ║  ║  ║  ║  ║  ║  ║  ║  ║  ║  ║  ║  ║ »\n",
       "   q_25: ┤ H ├┤ H ├──────░──╫──╫──╫──╫──╫──╫──╫──╫──╫──╫──╫──╫──╫──╫──╫──╫──╫─»\n",
       "         ├───┤├───┤      ░  ║  ║  ║  ║  ║  ║  ║  ║  ║  ║  ║  ║  ║  ║  ║  ║  ║ »\n",
       "   q_26: ┤ X ├┤ H ├──────░──╫──╫──╫──╫──╫──╫──╫──╫──╫──╫──╫──╫──╫──╫──╫──╫──╫─»\n",
       "         ├───┤├───┤      ░  ║  ║  ║  ║  ║  ║  ║  ║  ║  ║  ║  ║  ║  ║  ║  ║  ║ »\n",
       "   q_27: ┤ X ├┤ H ├──────░──╫──╫──╫──╫──╫──╫──╫──╫──╫──╫──╫──╫──╫──╫──╫──╫──╫─»\n",
       "         ├───┤├───┤      ░  ║  ║  ║  ║  ║  ║  ║  ║  ║  ║  ║  ║  ║  ║  ║  ║  ║ »\n",
       "   q_28: ┤ H ├┤ H ├──────░──╫──╫──╫──╫──╫──╫──╫──╫──╫──╫──╫──╫──╫──╫──╫──╫──╫─»\n",
       "         ├───┤└───┘      ░  ║  ║  ║  ║  ║  ║  ║  ║  ║  ║  ║  ║  ║  ║  ║  ║  ║ »\n",
       "   q_29: ┤ H ├───────────░──╫──╫──╫──╫──╫──╫──╫──╫──╫──╫──╫──╫──╫──╫──╫──╫──╫─»\n",
       "         ├───┤           ░  ║  ║  ║  ║  ║  ║  ║  ║  ║  ║  ║  ║  ║  ║  ║  ║  ║ »\n",
       "   q_30: ┤ X ├───────────░──╫──╫──╫──╫──╫──╫──╫──╫──╫──╫──╫──╫──╫──╫──╫──╫──╫─»\n",
       "         ├───┤┌───┐      ░  ║  ║  ║  ║  ║  ║  ║  ║  ║  ║  ║  ║  ║  ║  ║  ║  ║ »\n",
       "   q_31: ┤ X ├┤ H ├──────░──╫──╫──╫──╫──╫──╫──╫──╫──╫──╫──╫──╫──╫──╫──╫──╫──╫─»\n",
       "         └───┘└───┘      ░  ║  ║  ║  ║  ║  ║  ║  ║  ║  ║  ║  ║  ║  ║  ║  ║  ║ »\n",
       "meas: 32\/═══════════════════╩══╩══╩══╩══╩══╩══╩══╩══╩══╩══╩══╩══╩══╩══╩══╩══╩═»\n",
       "                            0  1  2  3  4  5  6  7  8  9  10 11 12 13 14 15 16»\n",
       "«                                                      \n",
       "«    q_0: ─────────────────────────────────────────────\n",
       "«                                                      \n",
       "«    q_1: ─────────────────────────────────────────────\n",
       "«                                                      \n",
       "«    q_2: ─────────────────────────────────────────────\n",
       "«                                                      \n",
       "«    q_3: ─────────────────────────────────────────────\n",
       "«                                                      \n",
       "«    q_4: ─────────────────────────────────────────────\n",
       "«                                                      \n",
       "«    q_5: ─────────────────────────────────────────────\n",
       "«                                                      \n",
       "«    q_6: ─────────────────────────────────────────────\n",
       "«                                                      \n",
       "«    q_7: ─────────────────────────────────────────────\n",
       "«                                                      \n",
       "«    q_8: ─────────────────────────────────────────────\n",
       "«                                                      \n",
       "«    q_9: ─────────────────────────────────────────────\n",
       "«                                                      \n",
       "«   q_10: ─────────────────────────────────────────────\n",
       "«                                                      \n",
       "«   q_11: ─────────────────────────────────────────────\n",
       "«                                                      \n",
       "«   q_12: ─────────────────────────────────────────────\n",
       "«                                                      \n",
       "«   q_13: ─────────────────────────────────────────────\n",
       "«                                                      \n",
       "«   q_14: ─────────────────────────────────────────────\n",
       "«                                                      \n",
       "«   q_15: ─────────────────────────────────────────────\n",
       "«                                                      \n",
       "«   q_16: ─────────────────────────────────────────────\n",
       "«         ┌─┐                                          \n",
       "«   q_17: ┤M├──────────────────────────────────────────\n",
       "«         └╥┘┌─┐                                       \n",
       "«   q_18: ─╫─┤M├───────────────────────────────────────\n",
       "«          ║ └╥┘┌─┐                                    \n",
       "«   q_19: ─╫──╫─┤M├────────────────────────────────────\n",
       "«          ║  ║ └╥┘┌─┐                                 \n",
       "«   q_20: ─╫──╫──╫─┤M├─────────────────────────────────\n",
       "«          ║  ║  ║ └╥┘┌─┐                              \n",
       "«   q_21: ─╫──╫──╫──╫─┤M├──────────────────────────────\n",
       "«          ║  ║  ║  ║ └╥┘┌─┐                           \n",
       "«   q_22: ─╫──╫──╫──╫──╫─┤M├───────────────────────────\n",
       "«          ║  ║  ║  ║  ║ └╥┘┌─┐                        \n",
       "«   q_23: ─╫──╫──╫──╫──╫──╫─┤M├────────────────────────\n",
       "«          ║  ║  ║  ║  ║  ║ └╥┘┌─┐                     \n",
       "«   q_24: ─╫──╫──╫──╫──╫──╫──╫─┤M├─────────────────────\n",
       "«          ║  ║  ║  ║  ║  ║  ║ └╥┘┌─┐                  \n",
       "«   q_25: ─╫──╫──╫──╫──╫──╫──╫──╫─┤M├──────────────────\n",
       "«          ║  ║  ║  ║  ║  ║  ║  ║ └╥┘┌─┐               \n",
       "«   q_26: ─╫──╫──╫──╫──╫──╫──╫──╫──╫─┤M├───────────────\n",
       "«          ║  ║  ║  ║  ║  ║  ║  ║  ║ └╥┘┌─┐            \n",
       "«   q_27: ─╫──╫──╫──╫──╫──╫──╫──╫──╫──╫─┤M├────────────\n",
       "«          ║  ║  ║  ║  ║  ║  ║  ║  ║  ║ └╥┘┌─┐         \n",
       "«   q_28: ─╫──╫──╫──╫──╫──╫──╫──╫──╫──╫──╫─┤M├─────────\n",
       "«          ║  ║  ║  ║  ║  ║  ║  ║  ║  ║  ║ └╥┘┌─┐      \n",
       "«   q_29: ─╫──╫──╫──╫──╫──╫──╫──╫──╫──╫──╫──╫─┤M├──────\n",
       "«          ║  ║  ║  ║  ║  ║  ║  ║  ║  ║  ║  ║ └╥┘┌─┐   \n",
       "«   q_30: ─╫──╫──╫──╫──╫──╫──╫──╫──╫──╫──╫──╫──╫─┤M├───\n",
       "«          ║  ║  ║  ║  ║  ║  ║  ║  ║  ║  ║  ║  ║ └╥┘┌─┐\n",
       "«   q_31: ─╫──╫──╫──╫──╫──╫──╫──╫──╫──╫──╫──╫──╫──╫─┤M├\n",
       "«          ║  ║  ║  ║  ║  ║  ║  ║  ║  ║  ║  ║  ║  ║ └╥┘\n",
       "«meas: 32\/═╩══╩══╩══╩══╩══╩══╩══╩══╩══╩══╩══╩══╩══╩══╩═\n",
       "«          17 18 19 20 21 22 23 24 25 26 27 28 29 30 31<\/pre>"
      ]
     },
     "metadata":{
      
     },
     "output_type":"display_data"
    }
   ],
   "metadata":{
    "datalore":{
     "node_id":"g2Dvm4MzSgHgSkz7I9Kem9",
     "type":"CODE",
     "hide_input_from_viewers":true,
     "hide_output_from_viewers":true
    }
   }
  },
  {
   "cell_type":"code",
   "source":[
    
   ],
   "execution_count":null,
   "outputs":[
    
   ],
   "metadata":{
    "datalore":{
     "node_id":"Q41D43AGYFAfYEMRs33y5A",
     "type":"CODE",
     "hide_input_from_viewers":true,
     "hide_output_from_viewers":true
    }
   }
  }
 ],
 "metadata":{
  "kernelspec":{
   "display_name":"Python",
   "language":"python",
   "name":"python"
  },
  "datalore":{
   "version":1,
   "computation_mode":"JUPYTER",
   "package_manager":"pip",
   "base_environment":"default",
   "packages":[
    {
     "name":"qiskit",
     "source":"PIP"
    }
   ]
  }
 },
 "nbformat":4,
 "nbformat_minor":4
}